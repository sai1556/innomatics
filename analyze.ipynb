{
 "cells": [
  {
   "cell_type": "code",
   "execution_count": 1,
   "id": "3f940983-f212-4929-afd4-bf6a509aa3e2",
   "metadata": {},
   "outputs": [],
   "source": [
    "import pandas as pd\n",
    "import numpy as np"
   ]
  },
  {
   "cell_type": "code",
   "execution_count": 3,
   "id": "12c7b7ce-5a0b-4b86-a4b8-7640fbb0b115",
   "metadata": {},
   "outputs": [],
   "source": [
    "data = pd.read_csv(\"analyze.csv\")"
   ]
  },
  {
   "cell_type": "code",
   "execution_count": 7,
   "id": "749796c4-12a3-4071-bcaf-dbe3d119c9d5",
   "metadata": {},
   "outputs": [
    {
     "data": {
      "text/html": [
       "<div>\n",
       "<style scoped>\n",
       "    .dataframe tbody tr th:only-of-type {\n",
       "        vertical-align: middle;\n",
       "    }\n",
       "\n",
       "    .dataframe tbody tr th {\n",
       "        vertical-align: top;\n",
       "    }\n",
       "\n",
       "    .dataframe thead th {\n",
       "        text-align: right;\n",
       "    }\n",
       "</style>\n",
       "<table border=\"1\" class=\"dataframe\">\n",
       "  <thead>\n",
       "    <tr style=\"text-align: right;\">\n",
       "      <th></th>\n",
       "      <th>Date of Birth</th>\n",
       "      <th>What is your current profession?</th>\n",
       "      <th>What is the year of completion of your Highest Education Qualification?</th>\n",
       "      <th>Which of the following best describes you?</th>\n",
       "      <th>Please mention the name of the institute where you have completed or are currently pursuing your Data Science Certification Course.</th>\n",
       "      <th>In case your certification institute is \"Innomatics Research Labs\", please provide your Enrolled Batch Number.</th>\n",
       "      <th>Please indicate the time that suits you for your daily LIVE interaction with our Chief Data Scientist as part of your internship.</th>\n",
       "      <th>What do you think are most important skill right now for a skilled Data Scientist?</th>\n",
       "    </tr>\n",
       "  </thead>\n",
       "  <tbody>\n",
       "    <tr>\n",
       "      <th>0</th>\n",
       "      <td>9/16/2000</td>\n",
       "      <td>Fresher (I have completed my Education and loo...</td>\n",
       "      <td>7/30/2023</td>\n",
       "      <td>I am currently enrolled in a Data Science cert...</td>\n",
       "      <td>Innomatics Research Labs</td>\n",
       "      <td>251</td>\n",
       "      <td>6:00 to 7:00 PM IST</td>\n",
       "      <td>Extracting actionable insights from the raw da...</td>\n",
       "    </tr>\n",
       "    <tr>\n",
       "      <th>1</th>\n",
       "      <td>2/6/1998</td>\n",
       "      <td>Fresher (I have completed my Education and loo...</td>\n",
       "      <td>5/18/2022</td>\n",
       "      <td>I have never enrolled in any certification cou...</td>\n",
       "      <td>NaN</td>\n",
       "      <td>NaN</td>\n",
       "      <td>6:00 to 7:00 PM IST</td>\n",
       "      <td>Extracting actionable insights from the raw data</td>\n",
       "    </tr>\n",
       "  </tbody>\n",
       "</table>\n",
       "</div>"
      ],
      "text/plain": [
       "  Date of Birth                   What is your current profession?  \\\n",
       "0     9/16/2000  Fresher (I have completed my Education and loo...   \n",
       "1      2/6/1998  Fresher (I have completed my Education and loo...   \n",
       "\n",
       "  What is the year of completion of your Highest Education Qualification?  \\\n",
       "0                                          7/30/2023                        \n",
       "1                                          5/18/2022                        \n",
       "\n",
       "          Which of the following best describes you?  \\\n",
       "0  I am currently enrolled in a Data Science cert...   \n",
       "1  I have never enrolled in any certification cou...   \n",
       "\n",
       "  Please mention the name of the institute where you have completed or are currently pursuing your Data Science Certification Course.  \\\n",
       "0                           Innomatics Research Labs                                                                                    \n",
       "1                                                NaN                                                                                    \n",
       "\n",
       "  In case your certification institute is \"Innomatics Research Labs\", please provide your Enrolled Batch Number.  \\\n",
       "0                                                251                                                               \n",
       "1                                                NaN                                                               \n",
       "\n",
       "  Please indicate the time that suits you for your daily LIVE interaction with our Chief Data Scientist as part of your internship.  \\\n",
       "0                                6:00 to 7:00 PM IST                                                                                  \n",
       "1                                6:00 to 7:00 PM IST                                                                                  \n",
       "\n",
       "  What do you think are most important skill right now for a skilled Data Scientist?  \n",
       "0  Extracting actionable insights from the raw da...                                  \n",
       "1   Extracting actionable insights from the raw data                                  "
      ]
     },
     "execution_count": 7,
     "metadata": {},
     "output_type": "execute_result"
    }
   ],
   "source": [
    "data.head(2)"
   ]
  },
  {
   "cell_type": "code",
   "execution_count": 9,
   "id": "ab3995c3-9032-4b56-858c-f98ce5da00f5",
   "metadata": {},
   "outputs": [
    {
     "data": {
      "text/plain": [
       "(1000, 8)"
      ]
     },
     "execution_count": 9,
     "metadata": {},
     "output_type": "execute_result"
    }
   ],
   "source": [
    "data.shape"
   ]
  },
  {
   "cell_type": "code",
   "execution_count": 13,
   "id": "592f7854-d7dd-45b1-bcbd-289728a77bb2",
   "metadata": {},
   "outputs": [
    {
     "data": {
      "text/html": [
       "<div>\n",
       "<style scoped>\n",
       "    .dataframe tbody tr th:only-of-type {\n",
       "        vertical-align: middle;\n",
       "    }\n",
       "\n",
       "    .dataframe tbody tr th {\n",
       "        vertical-align: top;\n",
       "    }\n",
       "\n",
       "    .dataframe thead th {\n",
       "        text-align: right;\n",
       "    }\n",
       "</style>\n",
       "<table border=\"1\" class=\"dataframe\">\n",
       "  <thead>\n",
       "    <tr style=\"text-align: right;\">\n",
       "      <th></th>\n",
       "      <th>count</th>\n",
       "      <th>unique</th>\n",
       "      <th>top</th>\n",
       "      <th>freq</th>\n",
       "    </tr>\n",
       "  </thead>\n",
       "  <tbody>\n",
       "    <tr>\n",
       "      <th>Date of Birth</th>\n",
       "      <td>1000</td>\n",
       "      <td>826</td>\n",
       "      <td>11/24/2001</td>\n",
       "      <td>4</td>\n",
       "    </tr>\n",
       "    <tr>\n",
       "      <th>What is your current profession?</th>\n",
       "      <td>1000</td>\n",
       "      <td>4</td>\n",
       "      <td>Student (I am currently enrolled in some Educa...</td>\n",
       "      <td>488</td>\n",
       "    </tr>\n",
       "    <tr>\n",
       "      <th>What is the year of completion of your Highest Education Qualification?</th>\n",
       "      <td>1000</td>\n",
       "      <td>553</td>\n",
       "      <td>5/15/2024</td>\n",
       "      <td>19</td>\n",
       "    </tr>\n",
       "    <tr>\n",
       "      <th>Which of the following best describes you?</th>\n",
       "      <td>1000</td>\n",
       "      <td>3</td>\n",
       "      <td>I am currently enrolled in a Data Science cert...</td>\n",
       "      <td>405</td>\n",
       "    </tr>\n",
       "    <tr>\n",
       "      <th>Please mention the name of the institute where you have completed or are currently pursuing your Data Science Certification Course.</th>\n",
       "      <td>678</td>\n",
       "      <td>365</td>\n",
       "      <td>Innomatics Research Labs</td>\n",
       "      <td>109</td>\n",
       "    </tr>\n",
       "    <tr>\n",
       "      <th>In case your certification institute is \"Innomatics Research Labs\", please provide your Enrolled Batch Number.</th>\n",
       "      <td>338</td>\n",
       "      <td>139</td>\n",
       "      <td>Na</td>\n",
       "      <td>16</td>\n",
       "    </tr>\n",
       "    <tr>\n",
       "      <th>Please indicate the time that suits you for your daily LIVE interaction with our Chief Data Scientist as part of your internship.</th>\n",
       "      <td>1000</td>\n",
       "      <td>2</td>\n",
       "      <td>6:00 to 7:00 PM IST</td>\n",
       "      <td>672</td>\n",
       "    </tr>\n",
       "    <tr>\n",
       "      <th>What do you think are most important skill right now for a skilled Data Scientist?</th>\n",
       "      <td>1000</td>\n",
       "      <td>60</td>\n",
       "      <td>Extracting actionable insights from the raw da...</td>\n",
       "      <td>214</td>\n",
       "    </tr>\n",
       "  </tbody>\n",
       "</table>\n",
       "</div>"
      ],
      "text/plain": [
       "                                                   count unique  \\\n",
       "Date of Birth                                       1000    826   \n",
       "What is your current profession?                    1000      4   \n",
       "What is the year of completion of your Highest ...  1000    553   \n",
       "Which of the following best describes you?          1000      3   \n",
       "Please mention the name of the institute where ...   678    365   \n",
       "In case your certification institute is \"Innoma...   338    139   \n",
       "Please indicate the time that suits you for you...  1000      2   \n",
       "What do you think are most important skill righ...  1000     60   \n",
       "\n",
       "                                                                                                  top  \\\n",
       "Date of Birth                                                                              11/24/2001   \n",
       "What is your current profession?                    Student (I am currently enrolled in some Educa...   \n",
       "What is the year of completion of your Highest ...                                          5/15/2024   \n",
       "Which of the following best describes you?          I am currently enrolled in a Data Science cert...   \n",
       "Please mention the name of the institute where ...                           Innomatics Research Labs   \n",
       "In case your certification institute is \"Innoma...                                                 Na   \n",
       "Please indicate the time that suits you for you...                                6:00 to 7:00 PM IST   \n",
       "What do you think are most important skill righ...  Extracting actionable insights from the raw da...   \n",
       "\n",
       "                                                   freq  \n",
       "Date of Birth                                         4  \n",
       "What is your current profession?                    488  \n",
       "What is the year of completion of your Highest ...   19  \n",
       "Which of the following best describes you?          405  \n",
       "Please mention the name of the institute where ...  109  \n",
       "In case your certification institute is \"Innoma...   16  \n",
       "Please indicate the time that suits you for you...  672  \n",
       "What do you think are most important skill righ...  214  "
      ]
     },
     "execution_count": 13,
     "metadata": {},
     "output_type": "execute_result"
    }
   ],
   "source": [
    "data.describe(include='object').T"
   ]
  },
  {
   "cell_type": "code",
   "execution_count": 15,
   "id": "72e9cfe9-ccaa-4da6-9178-ac24bf314bcb",
   "metadata": {},
   "outputs": [
    {
     "data": {
      "text/html": [
       "<div>\n",
       "<style scoped>\n",
       "    .dataframe tbody tr th:only-of-type {\n",
       "        vertical-align: middle;\n",
       "    }\n",
       "\n",
       "    .dataframe tbody tr th {\n",
       "        vertical-align: top;\n",
       "    }\n",
       "\n",
       "    .dataframe thead th {\n",
       "        text-align: right;\n",
       "    }\n",
       "</style>\n",
       "<table border=\"1\" class=\"dataframe\">\n",
       "  <thead>\n",
       "    <tr style=\"text-align: right;\">\n",
       "      <th></th>\n",
       "      <th>Date of Birth</th>\n",
       "      <th>What is your current profession?</th>\n",
       "      <th>What is the year of completion of your Highest Education Qualification?</th>\n",
       "      <th>Which of the following best describes you?</th>\n",
       "      <th>Please mention the name of the institute where you have completed or are currently pursuing your Data Science Certification Course.</th>\n",
       "      <th>In case your certification institute is \"Innomatics Research Labs\", please provide your Enrolled Batch Number.</th>\n",
       "      <th>Please indicate the time that suits you for your daily LIVE interaction with our Chief Data Scientist as part of your internship.</th>\n",
       "      <th>What do you think are most important skill right now for a skilled Data Scientist?</th>\n",
       "    </tr>\n",
       "  </thead>\n",
       "  <tbody>\n",
       "    <tr>\n",
       "      <th>count</th>\n",
       "      <td>1000</td>\n",
       "      <td>1000</td>\n",
       "      <td>1000</td>\n",
       "      <td>1000</td>\n",
       "      <td>678</td>\n",
       "      <td>338</td>\n",
       "      <td>1000</td>\n",
       "      <td>1000</td>\n",
       "    </tr>\n",
       "    <tr>\n",
       "      <th>unique</th>\n",
       "      <td>826</td>\n",
       "      <td>4</td>\n",
       "      <td>553</td>\n",
       "      <td>3</td>\n",
       "      <td>365</td>\n",
       "      <td>139</td>\n",
       "      <td>2</td>\n",
       "      <td>60</td>\n",
       "    </tr>\n",
       "    <tr>\n",
       "      <th>top</th>\n",
       "      <td>11/24/2001</td>\n",
       "      <td>Student (I am currently enrolled in some Educa...</td>\n",
       "      <td>5/15/2024</td>\n",
       "      <td>I am currently enrolled in a Data Science cert...</td>\n",
       "      <td>Innomatics Research Labs</td>\n",
       "      <td>Na</td>\n",
       "      <td>6:00 to 7:00 PM IST</td>\n",
       "      <td>Extracting actionable insights from the raw da...</td>\n",
       "    </tr>\n",
       "    <tr>\n",
       "      <th>freq</th>\n",
       "      <td>4</td>\n",
       "      <td>488</td>\n",
       "      <td>19</td>\n",
       "      <td>405</td>\n",
       "      <td>109</td>\n",
       "      <td>16</td>\n",
       "      <td>672</td>\n",
       "      <td>214</td>\n",
       "    </tr>\n",
       "  </tbody>\n",
       "</table>\n",
       "</div>"
      ],
      "text/plain": [
       "       Date of Birth                   What is your current profession?  \\\n",
       "count           1000                                               1000   \n",
       "unique           826                                                  4   \n",
       "top       11/24/2001  Student (I am currently enrolled in some Educa...   \n",
       "freq               4                                                488   \n",
       "\n",
       "       What is the year of completion of your Highest Education Qualification?  \\\n",
       "count                                                1000                        \n",
       "unique                                                553                        \n",
       "top                                             5/15/2024                        \n",
       "freq                                                   19                        \n",
       "\n",
       "               Which of the following best describes you?  \\\n",
       "count                                                1000   \n",
       "unique                                                  3   \n",
       "top     I am currently enrolled in a Data Science cert...   \n",
       "freq                                                  405   \n",
       "\n",
       "       Please mention the name of the institute where you have completed or are currently pursuing your Data Science Certification Course.  \\\n",
       "count                                                 678                                                                                    \n",
       "unique                                                365                                                                                    \n",
       "top                              Innomatics Research Labs                                                                                    \n",
       "freq                                                  109                                                                                    \n",
       "\n",
       "       In case your certification institute is \"Innomatics Research Labs\", please provide your Enrolled Batch Number.  \\\n",
       "count                                                 338                                                               \n",
       "unique                                                139                                                               \n",
       "top                                                    Na                                                               \n",
       "freq                                                   16                                                               \n",
       "\n",
       "       Please indicate the time that suits you for your daily LIVE interaction with our Chief Data Scientist as part of your internship.  \\\n",
       "count                                                1000                                                                                  \n",
       "unique                                                  2                                                                                  \n",
       "top                                   6:00 to 7:00 PM IST                                                                                  \n",
       "freq                                                  672                                                                                  \n",
       "\n",
       "       What do you think are most important skill right now for a skilled Data Scientist?  \n",
       "count                                                1000                                  \n",
       "unique                                                 60                                  \n",
       "top     Extracting actionable insights from the raw da...                                  \n",
       "freq                                                  214                                  "
      ]
     },
     "execution_count": 15,
     "metadata": {},
     "output_type": "execute_result"
    }
   ],
   "source": [
    "data.describe()"
   ]
  },
  {
   "cell_type": "code",
   "execution_count": 19,
   "id": "979dbb3d-6485-4ab6-ba57-277dae972175",
   "metadata": {},
   "outputs": [
    {
     "data": {
      "text/plain": [
       "Index(['Date of Birth', 'What is your current profession?',\n",
       "       'What is the year of completion of your Highest Education Qualification?',\n",
       "       'Which of the following best describes you?',\n",
       "       'Please mention the name of the institute where you have completed or are currently pursuing your Data Science Certification Course.',\n",
       "       'In case your certification institute is \"Innomatics Research Labs\", please provide your Enrolled Batch Number.',\n",
       "       'Please indicate the time that suits you for your daily LIVE interaction with our Chief Data Scientist as part of your internship.',\n",
       "       'What do you think are most important skill right now for a skilled Data Scientist?'],\n",
       "      dtype='object')"
      ]
     },
     "execution_count": 19,
     "metadata": {},
     "output_type": "execute_result"
    }
   ],
   "source": [
    "data.columns"
   ]
  },
  {
   "cell_type": "code",
   "execution_count": 35,
   "id": "4fe9ea76-d92d-4ff9-a513-9b7e6efa2f00",
   "metadata": {},
   "outputs": [
    {
     "name": "stdout",
     "output_type": "stream",
     "text": [
      "<class 'pandas.core.frame.DataFrame'>\n",
      "RangeIndex: 1000 entries, 0 to 999\n",
      "Data columns (total 8 columns):\n",
      " #   Column                                                                                                                               Non-Null Count  Dtype \n",
      "---  ------                                                                                                                               --------------  ----- \n",
      " 0   Date of Birth                                                                                                                        1000 non-null   object\n",
      " 1   What is your current profession?                                                                                                     1000 non-null   object\n",
      " 2   What is the year of completion of your Highest Education Qualification?                                                              1000 non-null   object\n",
      " 3   Which of the following best describes you?                                                                                           1000 non-null   object\n",
      " 4   Please mention the name of the institute where you have completed or are currently pursuing your Data Science Certification Course.  678 non-null    object\n",
      " 5   In case your certification institute is \"Innomatics Research Labs\", please provide your Enrolled Batch Number.                       338 non-null    object\n",
      " 6   Please indicate the time that suits you for your daily LIVE interaction with our Chief Data Scientist as part of your internship.    1000 non-null   object\n",
      " 7   What do you think are most important skill right now for a skilled Data Scientist?                                                   1000 non-null   object\n",
      "dtypes: object(8)\n",
      "memory usage: 62.6+ KB\n"
     ]
    }
   ],
   "source": [
    "data.info()"
   ]
  },
  {
   "cell_type": "code",
   "execution_count": 21,
   "id": "b6ab921f-def3-4652-824d-8cf3bf05f80e",
   "metadata": {},
   "outputs": [
    {
     "data": {
      "text/plain": [
       "'Working Professional (I have completed my Education and working full time)'"
      ]
     },
     "execution_count": 21,
     "metadata": {},
     "output_type": "execute_result"
    }
   ],
   "source": [
    "data[\"What is your current profession?\"].max()"
   ]
  },
  {
   "cell_type": "code",
   "execution_count": 27,
   "id": "888358f5-cdbe-41bc-91c9-57db3fb9d6a4",
   "metadata": {},
   "outputs": [
    {
     "data": {
      "text/plain": [
       "'6:00 to 7:00 PM IST'"
      ]
     },
     "execution_count": 27,
     "metadata": {},
     "output_type": "execute_result"
    }
   ],
   "source": [
    "data[\"Please indicate the time that suits you for your daily LIVE interaction with our Chief Data Scientist as part of your internship.\"].max()"
   ]
  },
  {
   "cell_type": "code",
   "execution_count": 29,
   "id": "94469f0e-a5ec-4c71-a548-46213456166d",
   "metadata": {},
   "outputs": [
    {
     "data": {
      "text/plain": [
       "'9/9/2001'"
      ]
     },
     "execution_count": 29,
     "metadata": {},
     "output_type": "execute_result"
    }
   ],
   "source": [
    "data[\"Date of Birth\"].max()"
   ]
  },
  {
   "cell_type": "code",
   "execution_count": null,
   "id": "229dad7c-80bd-4b05-a284-890a44eaa4e5",
   "metadata": {},
   "outputs": [],
   "source": []
  },
  {
   "cell_type": "code",
   "execution_count": 43,
   "id": "2e26a51a-e988-4d24-8f89-e5c26faf6d52",
   "metadata": {},
   "outputs": [],
   "source": [
    "data[\"Date of Birth\"] = pd.to_datetime(data[\"Date of Birth\"]).dt.year.astype(int)"
   ]
  },
  {
   "cell_type": "code",
   "execution_count": 56,
   "id": "f9a541d4-a747-4639-a2c8-2324edc4ff3b",
   "metadata": {},
   "outputs": [
    {
     "name": "stdout",
     "output_type": "stream",
     "text": [
      "int32\n"
     ]
    }
   ],
   "source": [
    "print(data[\"Date of Birth\"].dtype)"
   ]
  },
  {
   "cell_type": "code",
   "execution_count": 58,
   "id": "c02efc0b-c23f-4f55-8fc0-b018c28befe1",
   "metadata": {},
   "outputs": [
    {
     "name": "stdout",
     "output_type": "stream",
     "text": [
      "datetime64[ns]\n"
     ]
    }
   ],
   "source": [
    "data[\"Date of Birth\"] = pd.to_datetime(data[\"Date of Birth\"], errors='coerce')\n",
    "print(data[\"Date of Birth\"].dtype)  # Check if conversion was successful"
   ]
  },
  {
   "cell_type": "code",
   "execution_count": 60,
   "id": "b0fdb415-3892-4342-85f5-5edbe83696c8",
   "metadata": {},
   "outputs": [],
   "source": [
    "data = data.dropna(subset=[\"Date of Birth\"])"
   ]
  },
  {
   "cell_type": "code",
   "execution_count": 62,
   "id": "ea0dc23b-0c75-4f34-a63a-914175149325",
   "metadata": {},
   "outputs": [],
   "source": [
    "current_year = pd.Timestamp.today().year\n",
    "data[\"Age\"] = current_year - data[\"Date of Birth\"].dt.year"
   ]
  },
  {
   "cell_type": "code",
   "execution_count": 64,
   "id": "83c7f4e6-4e5b-4659-849f-3977e270a988",
   "metadata": {},
   "outputs": [
    {
     "name": "stdout",
     "output_type": "stream",
     "text": [
      "Median Age of Working Professionals: 55.0\n"
     ]
    }
   ],
   "source": [
    "median_age = data[\"Age\"].median()\n",
    "print(\"Median Age of Working Professionals:\", median_age)"
   ]
  },
  {
   "cell_type": "code",
   "execution_count": 66,
   "id": "1f7c0762-e6b0-4014-9d38-cf0f95330bfb",
   "metadata": {},
   "outputs": [],
   "source": [
    "freelancers = data[data[\"What is your current profession?\"].str.contains(\"freelance\", case=False, na=False)]"
   ]
  },
  {
   "cell_type": "code",
   "execution_count": 68,
   "id": "7c008205-6730-414e-b42c-5b74b925c9d1",
   "metadata": {},
   "outputs": [
    {
     "name": "stdout",
     "output_type": "stream",
     "text": [
      "Maximum Age of a Freelancer: 55\n"
     ]
    }
   ],
   "source": [
    "max_age = freelancers[\"Age\"].max()\n",
    "print(\"Maximum Age of a Freelancer:\", max_age)"
   ]
  },
  {
   "cell_type": "code",
   "execution_count": 100,
   "id": "0a30b611-fc65-4ebc-bbbe-1f4cba77abe2",
   "metadata": {},
   "outputs": [],
   "source": [
    "data[\"Day of Week\"] = data[\"Date of Birth\"].dt.day_name()"
   ]
  },
  {
   "cell_type": "code",
   "execution_count": 104,
   "id": "10787bbf-89fe-4ef1-80ce-90793d580c85",
   "metadata": {},
   "outputs": [],
   "source": [
    "interns = data[data[\"Which of the following best describes you?\"].str.contains(\"intern\", case=False, na=False)]"
   ]
  },
  {
   "cell_type": "code",
   "execution_count": 160,
   "id": "584d6109-7519-4eaf-aac5-697e4afa4e4a",
   "metadata": {},
   "outputs": [
    {
     "name": "stdout",
     "output_type": "stream",
     "text": [
      "Number of interns born on a Sunday: 0\n"
     ]
    }
   ],
   "source": [
    "sunday_count = (data[\"Day of Week\"] == \"Sunday\").sum()\n",
    "print(\"Number of interns born on a Sunday:\", sunday_count)\n"
   ]
  },
  {
   "cell_type": "code",
   "execution_count": 114,
   "id": "7327cebb-3a9f-4dcc-b672-dbe2cf4c9e4e",
   "metadata": {},
   "outputs": [],
   "source": [
    "current_year = pd.Timestamp.today().year\n",
    "data[\"Age\"] = current_year - data[\"Date of Birth\"].dt.year"
   ]
  },
  {
   "cell_type": "code",
   "execution_count": 112,
   "id": "e719705c-3d12-4704-a539-93d067fe95af",
   "metadata": {},
   "outputs": [],
   "source": [
    "innomatics_interns = data[\n",
    "    data[\"Please mention the name of the institute where you have completed or are currently pursuing your Data Science Certification Course.\"]\n",
    "    .str.contains(\"Innomatics Research Labs\", case=False, na=False)\n",
    "]"
   ]
  },
  {
   "cell_type": "code",
   "execution_count": 116,
   "id": "e2300be6-fef6-4ced-8899-52a32efa6ca7",
   "metadata": {},
   "outputs": [
    {
     "name": "stdout",
     "output_type": "stream",
     "text": [
      "Minimum age of an intern at Innomatics Research Labs: 55\n"
     ]
    }
   ],
   "source": [
    "min_age = innomatics_interns[\"Age\"].min()\n",
    "print(\"Minimum age of an intern at Innomatics Research Labs:\", min_age)"
   ]
  },
  {
   "cell_type": "code",
   "execution_count": 118,
   "id": "b6f99835-8cf1-47e5-916f-fd73b7449920",
   "metadata": {},
   "outputs": [],
   "source": [
    "interns = data[data[\"Which of the following best describes you?\"].str.contains(\"intern\", case=False, na=False)]"
   ]
  },
  {
   "cell_type": "code",
   "execution_count": 126,
   "id": "28b4273c-30f9-4646-a318-0201c93a97f5",
   "metadata": {},
   "outputs": [
    {
     "data": {
      "text/plain": [
       "array(['I am currently enrolled in a Data Science certification course',\n",
       "       'I have never enrolled in any certification courses',\n",
       "       'I have completed a Data Science certification course'],\n",
       "      dtype=object)"
      ]
     },
     "execution_count": 126,
     "metadata": {},
     "output_type": "execute_result"
    }
   ],
   "source": [
    "data[\"Which of the following best describes you?\"].unique()"
   ]
  },
  {
   "cell_type": "code",
   "execution_count": 128,
   "id": "af32f11b-db7e-4f41-879d-fbf04b80c76b",
   "metadata": {},
   "outputs": [
    {
     "data": {
      "text/plain": [
       "Which of the following best describes you?\n",
       "I am currently enrolled in a Data Science certification course    405\n",
       "I have never enrolled in any certification courses                302\n",
       "I have completed a Data Science certification course              293\n",
       "Name: count, dtype: int64"
      ]
     },
     "execution_count": 128,
     "metadata": {},
     "output_type": "execute_result"
    }
   ],
   "source": [
    "data[\"Which of the following best describes you?\"].value_counts()"
   ]
  },
  {
   "cell_type": "markdown",
   "id": "1d0d3137-36cb-48e4-9b01-aee5e576adb4",
   "metadata": {},
   "source": [
    "For interns who never enrolled in a data science certification course, what is the current profession of the majority of them?"
   ]
  },
  {
   "cell_type": "code",
   "execution_count": 134,
   "id": "802a7177-0c43-4fa7-9390-248bc27b714d",
   "metadata": {},
   "outputs": [],
   "source": [
    "never_enrolled = data[\n",
    "    data[\"Which of the following best describes you?\"] == \"I have never enrolled in any certification courses\"\n",
    "]"
   ]
  },
  {
   "cell_type": "code",
   "execution_count": 132,
   "id": "41b34fba-cdef-4031-ba6a-1449cc6dfe92",
   "metadata": {},
   "outputs": [
    {
     "name": "stdout",
     "output_type": "stream",
     "text": [
      "The most common profession among interns who never enrolled in a Data Science certification course: Student (I am currently enrolled in some Educational Program)\n"
     ]
    }
   ],
   "source": [
    "most_common_profession = never_enrolled[\"What is your current profession?\"].mode()[0]\n",
    "print(\"The most common profession among interns who never enrolled in a Data Science certification course:\", most_common_profession)"
   ]
  },
  {
   "cell_type": "code",
   "execution_count": 136,
   "id": "ce9becad-537f-4cfe-9dab-26d449015cb5",
   "metadata": {},
   "outputs": [
    {
     "data": {
      "text/plain": [
       "What do you think are most important skill right now for a skilled Data Scientist?\n",
       "Extracting actionable insights from the raw data, Data Modelling, LLMs, MLOps, Basics of backend application development using python, Prompt Engineering    214\n",
       "Extracting actionable insights from the raw data, Data Modelling, MLOps                                                                                       73\n",
       "Extracting actionable insights from the raw data, Data Modelling                                                                                              70\n",
       "Extracting actionable insights from the raw data, Data Modelling, LLMs, MLOps                                                                                 66\n",
       "Extracting actionable insights from the raw data, Data Modelling, Basics of backend application development using python                                      59\n",
       "Extracting actionable insights from the raw data, Data Modelling, MLOps, Basics of backend application development using python                               51\n",
       "Extracting actionable insights from the raw data, Data Modelling, LLMs, MLOps, Basics of backend application development using python                         42\n",
       "Extracting actionable insights from the raw data                                                                                                              41\n",
       "Extracting actionable insights from the raw data, Data Modelling, LLMs, MLOps, Prompt Engineering                                                             31\n",
       "Extracting actionable insights from the raw data, Data Modelling, LLMs                                                                                        31\n",
       "Extracting actionable insights from the raw data, Data Modelling, Basics of backend application development using python, Prompt Engineering                  27\n",
       "Extracting actionable insights from the raw data, Data Modelling, LLMs, Basics of backend application development using python                                25\n",
       "Extracting actionable insights from the raw data, Data Modelling, Prompt Engineering                                                                          25\n",
       "Basics of backend application development using python                                                                                                        20\n",
       "Extracting actionable insights from the raw data, Data Modelling, LLMs, Prompt Engineering                                                                    18\n",
       "Extracting actionable insights from the raw data, Data Modelling, MLOps, Prompt Engineering                                                                   14\n",
       "Data Modelling                                                                                                                                                14\n",
       "Extracting actionable insights from the raw data, Data Modelling, LLMs, Basics of backend application development using python, Prompt Engineering            13\n",
       "LLMs, MLOps, Prompt Engineering                                                                                                                               10\n",
       "Extracting actionable insights from the raw data, LLMs, MLOps                                                                                                 10\n",
       "Data Modelling, LLMs, MLOps                                                                                                                                    9\n",
       "Extracting actionable insights from the raw data, Basics of backend application development using python                                                       8\n",
       "MLOps                                                                                                                                                          8\n",
       "Data Modelling, MLOps, Basics of backend application development using python                                                                                  7\n",
       "Prompt Engineering                                                                                                                                             7\n",
       "Extracting actionable insights from the raw data, LLMs, MLOps, Prompt Engineering                                                                              6\n",
       "Extracting actionable insights from the raw data, MLOps                                                                                                        6\n",
       "Extracting actionable insights from the raw data, Data Modelling, MLOps, Basics of backend application development using python, Prompt Engineering            6\n",
       "Data Modelling, LLMs, MLOps, Prompt Engineering                                                                                                                6\n",
       "LLMs, MLOps                                                                                                                                                    5\n",
       "Basics of backend application development using python, Prompt Engineering                                                                                     5\n",
       "Extracting actionable insights from the raw data, Basics of backend application development using python, Prompt Engineering                                   5\n",
       "Extracting actionable insights from the raw data, LLMs, MLOps, Basics of backend application development using python                                          5\n",
       "Extracting actionable insights from the raw data, LLMs, Prompt Engineering                                                                                     5\n",
       "Data Modelling, Basics of backend application development using python                                                                                         4\n",
       "LLMs                                                                                                                                                           4\n",
       "Data Modelling, LLMs, MLOps, Basics of backend application development using python, Prompt Engineering                                                        4\n",
       "LLMs, MLOps, Basics of backend application development using python, Prompt Engineering                                                                        3\n",
       "Extracting actionable insights from the raw data, MLOps, Prompt Engineering                                                                                    3\n",
       "Extracting actionable insights from the raw data, Prompt Engineering                                                                                           3\n",
       "Data Modelling, LLMs, Basics of backend application development using python, Prompt Engineering                                                               3\n",
       "Data Modelling, LLMs, MLOps, Basics of backend application development using python                                                                            3\n",
       "Data Modelling, LLMs                                                                                                                                           3\n",
       "Extracting actionable insights from the raw data, LLMs, Basics of backend application development using python                                                 3\n",
       "Extracting actionable insights from the raw data, LLMs, MLOps, Basics of backend application development using python, Prompt Engineering                      2\n",
       "Data Modelling, LLMs, Prompt Engineering                                                                                                                       2\n",
       "Extracting actionable insights from the raw data, LLMs                                                                                                         2\n",
       "Data Modelling, MLOps, Basics of backend application development using python, Prompt Engineering                                                              2\n",
       "LLMs, Basics of backend application development using python, Prompt Engineering                                                                               2\n",
       "Extracting actionable insights from the raw data, LLMs, Basics of backend application development using python, Prompt Engineering                             2\n",
       "Data Modelling, MLOps                                                                                                                                          2\n",
       "LLMs, Prompt Engineering                                                                                                                                       2\n",
       "Extracting actionable insights from the raw data, MLOps, Basics of backend application development using python, Prompt Engineering                            2\n",
       "Extracting actionable insights from the raw data, MLOps, Basics of backend application development using python                                                1\n",
       "Data Modelling, MLOps, Prompt Engineering                                                                                                                      1\n",
       "LLMs, Basics of backend application development using python                                                                                                   1\n",
       "LLMs, MLOps, Basics of backend application development using python                                                                                            1\n",
       "MLOps, Basics of backend application development using python                                                                                                  1\n",
       "MLOps, Basics of backend application development using python, Prompt Engineering                                                                              1\n",
       "MLOps, Prompt Engineering                                                                                                                                      1\n",
       "Name: count, dtype: int64"
      ]
     },
     "execution_count": 136,
     "metadata": {},
     "output_type": "execute_result"
    }
   ],
   "source": [
    "data[\"What do you think are most important skill right now for a skilled Data Scientist?\"].value_counts()"
   ]
  },
  {
   "cell_type": "code",
   "execution_count": 146,
   "id": "42212dd3-d881-4994-a43e-6a98d332343e",
   "metadata": {},
   "outputs": [
    {
     "data": {
      "text/plain": [
       "2"
      ]
     },
     "execution_count": 146,
     "metadata": {},
     "output_type": "execute_result"
    }
   ],
   "source": [
    "data[\"What do you think are most important skill right now for a skilled Data Scientist?\"].index[2]"
   ]
  },
  {
   "cell_type": "code",
   "execution_count": 150,
   "id": "68159437-2618-4367-b4a6-ea9ee0e112ae",
   "metadata": {},
   "outputs": [
    {
     "data": {
      "text/plain": [
       "Which of the following best describes you?\n",
       "I am currently enrolled in a Data Science certification course    405\n",
       "I have never enrolled in any certification courses                302\n",
       "I have completed a Data Science certification course              293\n",
       "Name: count, dtype: int64"
      ]
     },
     "execution_count": 150,
     "metadata": {},
     "output_type": "execute_result"
    }
   ],
   "source": [
    "data[\"What is your current profession?\"].value_counts()"
   ]
  },
  {
   "cell_type": "code",
   "execution_count": 158,
   "id": "35f93d46-517c-409f-b438-6e39047d9235",
   "metadata": {},
   "outputs": [
    {
     "name": "stdout",
     "output_type": "stream",
     "text": [
      "Number of interns who selected 'Prompt Engineering' as the most important skill: 7\n"
     ]
    }
   ],
   "source": [
    "prompt_engineering_count = (data[\"What do you think are most important skill right now for a skilled Data Scientist?\"] == \"Prompt Engineering\").sum()\n",
    "\n",
    "print(\"Number of interns who selected 'Prompt Engineering' as the most important skill:\", prompt_engineering_count)\n"
   ]
  },
  {
   "cell_type": "code",
   "execution_count": 164,
   "id": "06afe715-e7d2-43be-b114-809cdac2e651",
   "metadata": {},
   "outputs": [
    {
     "data": {
      "text/plain": [
       "Index(['Date of Birth', 'What is your current profession?',\n",
       "       'What is the year of completion of your Highest Education Qualification?',\n",
       "       'Which of the following best describes you?',\n",
       "       'Please mention the name of the institute where you have completed or are currently pursuing your Data Science Certification Course.',\n",
       "       'In case your certification institute is \"Innomatics Research Labs\", please provide your Enrolled Batch Number.',\n",
       "       'Please indicate the time that suits you for your daily LIVE interaction with our Chief Data Scientist as part of your internship.',\n",
       "       'What do you think are most important skill right now for a skilled Data Scientist?',\n",
       "       'Age', 'Birth Month', 'Day of Week'],\n",
       "      dtype='object')"
      ]
     },
     "execution_count": 164,
     "metadata": {},
     "output_type": "execute_result"
    }
   ],
   "source": [
    "data.columns"
   ]
  },
  {
   "cell_type": "code",
   "execution_count": 168,
   "id": "3cd6322d-9e2e-405d-b656-91718c86869e",
   "metadata": {},
   "outputs": [
    {
     "name": "stdout",
     "output_type": "stream",
     "text": [
      "Number of interns who didn’t mention the name of their Data Science institute: 322\n"
     ]
    }
   ],
   "source": [
    "missing_institute_count = data[\"Please mention the name of the institute where you have completed or are currently pursuing your Data Science Certification Course.\"].isna().sum()\n",
    "\n",
    "print(\"Number of interns who didn’t mention the name of their Data Science institute:\", missing_institute_count)\n"
   ]
  },
  {
   "cell_type": "code",
   "execution_count": 174,
   "id": "a9d5a362-976e-47bf-9a2b-780fc43fbb70",
   "metadata": {},
   "outputs": [],
   "source": [
    "innomatics_count = data[\n",
    "    data[\"Please mention the name of the institute where you have completed or are currently pursuing your Data Science Certification Course.\"]\n",
    "    .str.contains(\"Innomatics\", case=False, na=False)\n",
    "].shape[0]"
   ]
  },
  {
   "cell_type": "code",
   "execution_count": 176,
   "id": "f504c7b6-f774-47e7-b684-bb1ad41444f4",
   "metadata": {},
   "outputs": [
    {
     "name": "stdout",
     "output_type": "stream",
     "text": [
      "Number of interns who mentioned 'Innomatics' as their Data Science institute: 278\n"
     ]
    }
   ],
   "source": [
    "print(\"Number of interns who mentioned 'Innomatics' as their Data Science institute:\", innomatics_count)"
   ]
  },
  {
   "cell_type": "code",
   "execution_count": null,
   "id": "32712dc4-8c5e-49f3-9eca-3efebaec0c69",
   "metadata": {},
   "outputs": [],
   "source": []
  }
 ],
 "metadata": {
  "kernelspec": {
   "display_name": "Python 3 (ipykernel)",
   "language": "python",
   "name": "python3"
  },
  "language_info": {
   "codemirror_mode": {
    "name": "ipython",
    "version": 3
   },
   "file_extension": ".py",
   "mimetype": "text/x-python",
   "name": "python",
   "nbconvert_exporter": "python",
   "pygments_lexer": "ipython3",
   "version": "3.12.4"
  }
 },
 "nbformat": 4,
 "nbformat_minor": 5
}
